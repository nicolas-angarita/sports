{
 "cells": [
  {
   "cell_type": "code",
   "execution_count": 3,
   "id": "ec53ce74-63da-434f-80df-09a50d81f273",
   "metadata": {},
   "outputs": [
    {
     "data": {
      "text/plain": [
       "{'1-2020': []}"
      ]
     },
     "execution_count": 3,
     "metadata": {},
     "output_type": "execute_result"
    }
   ],
   "source": [
    "from sportsreference.nfl.boxscore import Boxscores, Boxscore\n",
    "Boxscores(1,2020).games"
   ]
  },
  {
   "cell_type": "code",
   "execution_count": 2,
   "id": "dd70801b-dbd7-4f2e-93f2-3511d86b47aa",
   "metadata": {},
   "outputs": [
    {
     "name": "stdout",
     "output_type": "stream",
     "text": [
      "Collecting sportsreference\n",
      "  Downloading sportsreference-0.5.2-py3-none-any.whl.metadata (7.4 kB)\n",
      "Requirement already satisfied: pandas>=0.24.1 in /opt/homebrew/anaconda3/lib/python3.9/site-packages (from sportsreference) (2.2.2)\n",
      "Collecting pyquery>=1.4.0 (from sportsreference)\n",
      "  Downloading pyquery-2.0.1-py3-none-any.whl.metadata (9.0 kB)\n",
      "Requirement already satisfied: requests>=2.18.4 in /opt/homebrew/anaconda3/lib/python3.9/site-packages (from sportsreference) (2.32.3)\n",
      "Requirement already satisfied: numpy>=1.22.4 in /opt/homebrew/anaconda3/lib/python3.9/site-packages (from pandas>=0.24.1->sportsreference) (1.24.4)\n",
      "Requirement already satisfied: python-dateutil>=2.8.2 in /opt/homebrew/anaconda3/lib/python3.9/site-packages (from pandas>=0.24.1->sportsreference) (2.9.0.post0)\n",
      "Requirement already satisfied: pytz>=2020.1 in /opt/homebrew/anaconda3/lib/python3.9/site-packages (from pandas>=0.24.1->sportsreference) (2024.1)\n",
      "Requirement already satisfied: tzdata>=2022.7 in /opt/homebrew/anaconda3/lib/python3.9/site-packages (from pandas>=0.24.1->sportsreference) (2024.1)\n",
      "Requirement already satisfied: lxml>=2.1 in /opt/homebrew/anaconda3/lib/python3.9/site-packages (from pyquery>=1.4.0->sportsreference) (5.2.1)\n",
      "Requirement already satisfied: cssselect>=1.2.0 in /opt/homebrew/anaconda3/lib/python3.9/site-packages (from pyquery>=1.4.0->sportsreference) (1.2.0)\n",
      "Requirement already satisfied: charset-normalizer<4,>=2 in /opt/homebrew/anaconda3/lib/python3.9/site-packages (from requests>=2.18.4->sportsreference) (3.3.2)\n",
      "Requirement already satisfied: idna<4,>=2.5 in /opt/homebrew/anaconda3/lib/python3.9/site-packages (from requests>=2.18.4->sportsreference) (3.7)\n",
      "Requirement already satisfied: urllib3<3,>=1.21.1 in /opt/homebrew/anaconda3/lib/python3.9/site-packages (from requests>=2.18.4->sportsreference) (1.26.19)\n",
      "Requirement already satisfied: certifi>=2017.4.17 in /opt/homebrew/anaconda3/lib/python3.9/site-packages (from requests>=2.18.4->sportsreference) (2024.8.30)\n",
      "Requirement already satisfied: six>=1.5 in /opt/homebrew/anaconda3/lib/python3.9/site-packages (from python-dateutil>=2.8.2->pandas>=0.24.1->sportsreference) (1.16.0)\n",
      "Downloading sportsreference-0.5.2-py3-none-any.whl (472 kB)\n",
      "Downloading pyquery-2.0.1-py3-none-any.whl (22 kB)\n",
      "\u001b[33mWARNING: Error parsing dependencies of autots: .* suffix can only be used with `==` or `!=` operators\n",
      "    pandas (>=0.25.*)\n",
      "            ~~~~~~~^\u001b[0m\u001b[33m\n",
      "\u001b[0mInstalling collected packages: pyquery, sportsreference\n",
      "Successfully installed pyquery-2.0.1 sportsreference-0.5.2\n",
      "Note: you may need to restart the kernel to use updated packages.\n"
     ]
    }
   ],
   "source": [
    "pip install sportsreference"
   ]
  },
  {
   "cell_type": "code",
   "execution_count": null,
   "id": "b1d9603c-057f-4ea7-8674-8f1ed40555d2",
   "metadata": {},
   "outputs": [],
   "source": []
  }
 ],
 "metadata": {
  "kernelspec": {
   "display_name": "Python 3 (ipykernel)",
   "language": "python",
   "name": "python3"
  },
  "language_info": {
   "codemirror_mode": {
    "name": "ipython",
    "version": 3
   },
   "file_extension": ".py",
   "mimetype": "text/x-python",
   "name": "python",
   "nbconvert_exporter": "python",
   "pygments_lexer": "ipython3",
   "version": "3.9.19"
  }
 },
 "nbformat": 4,
 "nbformat_minor": 5
}
